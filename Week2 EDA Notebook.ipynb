{
 "cells": [
  {
   "cell_type": "markdown",
   "id": "a671aa84",
   "metadata": {},
   "source": [
    "# Hypothesis\n",
    "* Is there any seasonality in number of customers using the cab service?\n",
    "* Are people with high wages more willing to use cab services?\n",
    "* Are people with different age more willing to use cab services?\n",
    "* Do people use cab services more frequently when they live in a city with bad transportation?\n",
    "* Do cities with high population-to-Users ratio have higher transactions?\n",
    "\n",
    "# EDA Recommendation\n",
    "* The city dataset is not useful in this EDA.\n",
    "* It is good to have a column that show which city it transact in the Transaction ID csv.\n",
    "* A column with the size of the city will help to determine people's will to use a cab service or not."
   ]
  },
  {
   "cell_type": "code",
   "execution_count": 60,
   "id": "2f3a2f0c",
   "metadata": {},
   "outputs": [],
   "source": [
    "import pandas as pd\n",
    "import matplotlib.pyplot as plt"
   ]
  },
  {
   "cell_type": "code",
   "execution_count": 77,
   "id": "b42330e0",
   "metadata": {},
   "outputs": [],
   "source": [
    "cab_data = pd.read_csv(\"C:\\Users\\YE-JI\\Documents\\DataSets\\Cab_Data.csv\")\n",
    "city = pd.read_csv(\"DC:\\Users\\YE-JI\\Documents\\DataSets\\City.csv\")\n",
    "customer_id = pd.read_csv(\"C:\\Users\\YE-JI\\Documents\\DataSets\\Customer_ID.csv\")\n",
    "transaction_id = pd.read_csv(\"C:\\Users\\YE-JI\\Documents\\DataSets\\Transaction_ID.csv\")"
   ]
  },
  {
   "cell_type": "code",
   "execution_count": 61,
   "id": "933b7783",
   "metadata": {},
   "outputs": [
    {
     "name": "stdout",
     "output_type": "stream",
     "text": [
      "42371\n",
      "43465\n",
      "42371\n",
      "43465\n"
     ]
    }
   ],
   "source": [
    "# Check the data set in two company is within the same time period\n",
    "cab_data.head(10)\n",
    "print(cab_data[cab_data['Company']=='Pink Cab']['Date of Travel'].min())\n",
    "print(cab_data[cab_data['Company']=='Pink Cab']['Date of Travel'].max())\n",
    "print(cab_data[cab_data['Company']=='Yellow Cab']['Date of Travel'].min())\n",
    "print(cab_data[cab_data['Company']=='Yellow Cab']['Date of Travel'].max())"
   ]
  },
  {
   "cell_type": "code",
   "execution_count": 62,
   "id": "b82d5f99",
   "metadata": {},
   "outputs": [
    {
     "data": {
      "text/html": [
       "<div>\n",
       "<style scoped>\n",
       "    .dataframe tbody tr th:only-of-type {\n",
       "        vertical-align: middle;\n",
       "    }\n",
       "\n",
       "    .dataframe tbody tr th {\n",
       "        vertical-align: top;\n",
       "    }\n",
       "\n",
       "    .dataframe thead th {\n",
       "        text-align: right;\n",
       "    }\n",
       "</style>\n",
       "<table border=\"1\" class=\"dataframe\">\n",
       "  <thead>\n",
       "    <tr style=\"text-align: right;\">\n",
       "      <th></th>\n",
       "      <th>City</th>\n",
       "      <th>Population</th>\n",
       "      <th>Users</th>\n",
       "    </tr>\n",
       "  </thead>\n",
       "  <tbody>\n",
       "    <tr>\n",
       "      <th>0</th>\n",
       "      <td>NEW YORK NY</td>\n",
       "      <td>8,405,837</td>\n",
       "      <td>302,149</td>\n",
       "    </tr>\n",
       "    <tr>\n",
       "      <th>1</th>\n",
       "      <td>CHICAGO IL</td>\n",
       "      <td>1,955,130</td>\n",
       "      <td>164,468</td>\n",
       "    </tr>\n",
       "    <tr>\n",
       "      <th>2</th>\n",
       "      <td>LOS ANGELES CA</td>\n",
       "      <td>1,595,037</td>\n",
       "      <td>144,132</td>\n",
       "    </tr>\n",
       "    <tr>\n",
       "      <th>3</th>\n",
       "      <td>MIAMI FL</td>\n",
       "      <td>1,339,155</td>\n",
       "      <td>17,675</td>\n",
       "    </tr>\n",
       "    <tr>\n",
       "      <th>4</th>\n",
       "      <td>SILICON VALLEY</td>\n",
       "      <td>1,177,609</td>\n",
       "      <td>27,247</td>\n",
       "    </tr>\n",
       "  </tbody>\n",
       "</table>\n",
       "</div>"
      ],
      "text/plain": [
       "             City   Population      Users\n",
       "0     NEW YORK NY   8,405,837    302,149 \n",
       "1      CHICAGO IL   1,955,130    164,468 \n",
       "2  LOS ANGELES CA   1,595,037    144,132 \n",
       "3        MIAMI FL   1,339,155     17,675 \n",
       "4  SILICON VALLEY   1,177,609     27,247 "
      ]
     },
     "execution_count": 62,
     "metadata": {},
     "output_type": "execute_result"
    }
   ],
   "source": [
    "city.head()"
   ]
  },
  {
   "cell_type": "code",
   "execution_count": 63,
   "id": "702f1c9e",
   "metadata": {},
   "outputs": [
    {
     "data": {
      "text/plain": [
       "49171"
      ]
     },
     "execution_count": 63,
     "metadata": {},
     "output_type": "execute_result"
    }
   ],
   "source": [
    "number_of_customer = customer_id.shape[0]\n",
    "number_of_customer"
   ]
  },
  {
   "cell_type": "code",
   "execution_count": 64,
   "id": "728317bb",
   "metadata": {},
   "outputs": [
    {
     "data": {
      "text/html": [
       "<div>\n",
       "<style scoped>\n",
       "    .dataframe tbody tr th:only-of-type {\n",
       "        vertical-align: middle;\n",
       "    }\n",
       "\n",
       "    .dataframe tbody tr th {\n",
       "        vertical-align: top;\n",
       "    }\n",
       "\n",
       "    .dataframe thead th {\n",
       "        text-align: right;\n",
       "    }\n",
       "</style>\n",
       "<table border=\"1\" class=\"dataframe\">\n",
       "  <thead>\n",
       "    <tr style=\"text-align: right;\">\n",
       "      <th></th>\n",
       "      <th>Transaction ID</th>\n",
       "      <th>Customer ID</th>\n",
       "      <th>Payment_Mode</th>\n",
       "    </tr>\n",
       "  </thead>\n",
       "  <tbody>\n",
       "    <tr>\n",
       "      <th>0</th>\n",
       "      <td>10000011</td>\n",
       "      <td>29290</td>\n",
       "      <td>Card</td>\n",
       "    </tr>\n",
       "    <tr>\n",
       "      <th>1</th>\n",
       "      <td>10000012</td>\n",
       "      <td>27703</td>\n",
       "      <td>Card</td>\n",
       "    </tr>\n",
       "    <tr>\n",
       "      <th>2</th>\n",
       "      <td>10000013</td>\n",
       "      <td>28712</td>\n",
       "      <td>Cash</td>\n",
       "    </tr>\n",
       "    <tr>\n",
       "      <th>3</th>\n",
       "      <td>10000014</td>\n",
       "      <td>28020</td>\n",
       "      <td>Cash</td>\n",
       "    </tr>\n",
       "    <tr>\n",
       "      <th>4</th>\n",
       "      <td>10000015</td>\n",
       "      <td>27182</td>\n",
       "      <td>Card</td>\n",
       "    </tr>\n",
       "  </tbody>\n",
       "</table>\n",
       "</div>"
      ],
      "text/plain": [
       "   Transaction ID  Customer ID Payment_Mode\n",
       "0        10000011        29290         Card\n",
       "1        10000012        27703         Card\n",
       "2        10000013        28712         Cash\n",
       "3        10000014        28020         Cash\n",
       "4        10000015        27182         Card"
      ]
     },
     "execution_count": 64,
     "metadata": {},
     "output_type": "execute_result"
    }
   ],
   "source": [
    "transaction_id.head()"
   ]
  },
  {
   "cell_type": "code",
   "execution_count": 65,
   "id": "7bf8887e",
   "metadata": {},
   "outputs": [
    {
     "data": {
      "text/html": [
       "<div>\n",
       "<style scoped>\n",
       "    .dataframe tbody tr th:only-of-type {\n",
       "        vertical-align: middle;\n",
       "    }\n",
       "\n",
       "    .dataframe tbody tr th {\n",
       "        vertical-align: top;\n",
       "    }\n",
       "\n",
       "    .dataframe thead th {\n",
       "        text-align: right;\n",
       "    }\n",
       "</style>\n",
       "<table border=\"1\" class=\"dataframe\">\n",
       "  <thead>\n",
       "    <tr style=\"text-align: right;\">\n",
       "      <th></th>\n",
       "      <th>Customer ID</th>\n",
       "      <th>Gender</th>\n",
       "      <th>Age</th>\n",
       "      <th>Income (USD/Month)</th>\n",
       "      <th>Transaction ID</th>\n",
       "      <th>Payment_Mode</th>\n",
       "      <th>Date of Travel</th>\n",
       "      <th>Company</th>\n",
       "      <th>City</th>\n",
       "      <th>Price Charged</th>\n",
       "      <th>Cost of Trip</th>\n",
       "      <th>Net Earn</th>\n",
       "    </tr>\n",
       "  </thead>\n",
       "  <tbody>\n",
       "    <tr>\n",
       "      <th>0</th>\n",
       "      <td>29290</td>\n",
       "      <td>Male</td>\n",
       "      <td>28</td>\n",
       "      <td>10813</td>\n",
       "      <td>10000011</td>\n",
       "      <td>Card</td>\n",
       "      <td>42377</td>\n",
       "      <td>Pink Cab</td>\n",
       "      <td>ATLANTA GA</td>\n",
       "      <td>370.95</td>\n",
       "      <td>313.6350</td>\n",
       "      <td>57.3150</td>\n",
       "    </tr>\n",
       "    <tr>\n",
       "      <th>1</th>\n",
       "      <td>29290</td>\n",
       "      <td>Male</td>\n",
       "      <td>28</td>\n",
       "      <td>10813</td>\n",
       "      <td>10351127</td>\n",
       "      <td>Cash</td>\n",
       "      <td>43302</td>\n",
       "      <td>Yellow Cab</td>\n",
       "      <td>ATLANTA GA</td>\n",
       "      <td>598.70</td>\n",
       "      <td>317.4228</td>\n",
       "      <td>281.2772</td>\n",
       "    </tr>\n",
       "    <tr>\n",
       "      <th>2</th>\n",
       "      <td>29290</td>\n",
       "      <td>Male</td>\n",
       "      <td>28</td>\n",
       "      <td>10813</td>\n",
       "      <td>10412921</td>\n",
       "      <td>Card</td>\n",
       "      <td>43427</td>\n",
       "      <td>Yellow Cab</td>\n",
       "      <td>ATLANTA GA</td>\n",
       "      <td>792.05</td>\n",
       "      <td>597.4020</td>\n",
       "      <td>194.6480</td>\n",
       "    </tr>\n",
       "    <tr>\n",
       "      <th>3</th>\n",
       "      <td>27703</td>\n",
       "      <td>Male</td>\n",
       "      <td>27</td>\n",
       "      <td>9237</td>\n",
       "      <td>10000012</td>\n",
       "      <td>Card</td>\n",
       "      <td>42375</td>\n",
       "      <td>Pink Cab</td>\n",
       "      <td>ATLANTA GA</td>\n",
       "      <td>358.52</td>\n",
       "      <td>334.8540</td>\n",
       "      <td>23.6660</td>\n",
       "    </tr>\n",
       "    <tr>\n",
       "      <th>4</th>\n",
       "      <td>27703</td>\n",
       "      <td>Male</td>\n",
       "      <td>27</td>\n",
       "      <td>9237</td>\n",
       "      <td>10320494</td>\n",
       "      <td>Card</td>\n",
       "      <td>43211</td>\n",
       "      <td>Yellow Cab</td>\n",
       "      <td>ATLANTA GA</td>\n",
       "      <td>721.10</td>\n",
       "      <td>467.1192</td>\n",
       "      <td>253.9808</td>\n",
       "    </tr>\n",
       "    <tr>\n",
       "      <th>5</th>\n",
       "      <td>27703</td>\n",
       "      <td>Male</td>\n",
       "      <td>27</td>\n",
       "      <td>9237</td>\n",
       "      <td>10324737</td>\n",
       "      <td>Cash</td>\n",
       "      <td>43224</td>\n",
       "      <td>Yellow Cab</td>\n",
       "      <td>ATLANTA GA</td>\n",
       "      <td>138.40</td>\n",
       "      <td>87.5088</td>\n",
       "      <td>50.8912</td>\n",
       "    </tr>\n",
       "    <tr>\n",
       "      <th>6</th>\n",
       "      <td>27703</td>\n",
       "      <td>Male</td>\n",
       "      <td>27</td>\n",
       "      <td>9237</td>\n",
       "      <td>10395626</td>\n",
       "      <td>Card</td>\n",
       "      <td>43400</td>\n",
       "      <td>Pink Cab</td>\n",
       "      <td>ATLANTA GA</td>\n",
       "      <td>167.03</td>\n",
       "      <td>141.9340</td>\n",
       "      <td>25.0960</td>\n",
       "    </tr>\n",
       "    <tr>\n",
       "      <th>7</th>\n",
       "      <td>28712</td>\n",
       "      <td>Male</td>\n",
       "      <td>53</td>\n",
       "      <td>11242</td>\n",
       "      <td>10000013</td>\n",
       "      <td>Cash</td>\n",
       "      <td>42371</td>\n",
       "      <td>Pink Cab</td>\n",
       "      <td>ATLANTA GA</td>\n",
       "      <td>125.20</td>\n",
       "      <td>97.6320</td>\n",
       "      <td>27.5680</td>\n",
       "    </tr>\n",
       "    <tr>\n",
       "      <th>8</th>\n",
       "      <td>28712</td>\n",
       "      <td>Male</td>\n",
       "      <td>53</td>\n",
       "      <td>11242</td>\n",
       "      <td>10079404</td>\n",
       "      <td>Card</td>\n",
       "      <td>42634</td>\n",
       "      <td>Yellow Cab</td>\n",
       "      <td>ATLANTA GA</td>\n",
       "      <td>704.30</td>\n",
       "      <td>494.2080</td>\n",
       "      <td>210.0920</td>\n",
       "    </tr>\n",
       "    <tr>\n",
       "      <th>9</th>\n",
       "      <td>28712</td>\n",
       "      <td>Male</td>\n",
       "      <td>53</td>\n",
       "      <td>11242</td>\n",
       "      <td>10186994</td>\n",
       "      <td>Card</td>\n",
       "      <td>42909</td>\n",
       "      <td>Yellow Cab</td>\n",
       "      <td>ATLANTA GA</td>\n",
       "      <td>365.63</td>\n",
       "      <td>246.6564</td>\n",
       "      <td>118.9736</td>\n",
       "    </tr>\n",
       "  </tbody>\n",
       "</table>\n",
       "</div>"
      ],
      "text/plain": [
       "   Customer ID Gender  Age  Income (USD/Month)  Transaction ID Payment_Mode  \\\n",
       "0        29290   Male   28               10813        10000011         Card   \n",
       "1        29290   Male   28               10813        10351127         Cash   \n",
       "2        29290   Male   28               10813        10412921         Card   \n",
       "3        27703   Male   27                9237        10000012         Card   \n",
       "4        27703   Male   27                9237        10320494         Card   \n",
       "5        27703   Male   27                9237        10324737         Cash   \n",
       "6        27703   Male   27                9237        10395626         Card   \n",
       "7        28712   Male   53               11242        10000013         Cash   \n",
       "8        28712   Male   53               11242        10079404         Card   \n",
       "9        28712   Male   53               11242        10186994         Card   \n",
       "\n",
       "   Date of Travel     Company        City  Price Charged  Cost of Trip  \\\n",
       "0           42377    Pink Cab  ATLANTA GA         370.95      313.6350   \n",
       "1           43302  Yellow Cab  ATLANTA GA         598.70      317.4228   \n",
       "2           43427  Yellow Cab  ATLANTA GA         792.05      597.4020   \n",
       "3           42375    Pink Cab  ATLANTA GA         358.52      334.8540   \n",
       "4           43211  Yellow Cab  ATLANTA GA         721.10      467.1192   \n",
       "5           43224  Yellow Cab  ATLANTA GA         138.40       87.5088   \n",
       "6           43400    Pink Cab  ATLANTA GA         167.03      141.9340   \n",
       "7           42371    Pink Cab  ATLANTA GA         125.20       97.6320   \n",
       "8           42634  Yellow Cab  ATLANTA GA         704.30      494.2080   \n",
       "9           42909  Yellow Cab  ATLANTA GA         365.63      246.6564   \n",
       "\n",
       "   Net Earn  \n",
       "0   57.3150  \n",
       "1  281.2772  \n",
       "2  194.6480  \n",
       "3   23.6660  \n",
       "4  253.9808  \n",
       "5   50.8912  \n",
       "6   25.0960  \n",
       "7   27.5680  \n",
       "8  210.0920  \n",
       "9  118.9736  "
      ]
     },
     "execution_count": 65,
     "metadata": {},
     "output_type": "execute_result"
    }
   ],
   "source": [
    "customer_transaction = customer_id.merge(transaction_id, on='Customer ID')\n",
    "master_data = customer_transaction.merge(cab_data, on=\"Transaction ID\")\n",
    "master_data['Net Earn'] = master_data['Price Charged'] - master_data['Cost of Trip']\n",
    "master_data.drop(['KM Travelled'], axis=1, inplace=True)\n",
    "master_data.head(10)"
   ]
  },
  {
   "cell_type": "code",
   "execution_count": 80,
   "id": "4799bf76",
   "metadata": {},
   "outputs": [
    {
     "data": {
      "text/plain": [
       "<AxesSubplot:title={'center':'Gender Ratio'}, ylabel='customers'>"
      ]
     },
     "execution_count": 80,
     "metadata": {},
     "output_type": "execute_result"
    },
    {
     "data": {
      "image/png": "[encoded data removed]",
      "text/plain": [
       "<Figure size 432x288 with 1 Axes>"
      ]
     },
     "metadata": {},
     "output_type": "display_data"
    }
   ],
   "source": [
    "# Ratio of gender\n",
    "gender_ratio = master_data.drop_duplicates(subset=['Customer ID'])\n",
    "gender_ratio.groupby('Gender')['Customer ID'].count()\n",
    "gender_ratio.groupby('Gender').agg('count').plot(kind='pie', y='Customer ID', ylabel='customers', title='Gender Ratio')"
   ]
  },
  {
   "cell_type": "code",
   "execution_count": 67,
   "id": "4f2328da",
   "metadata": {},
   "outputs": [
    {
     "data": {
      "image/png": "[encoded data removed]",
      "text/plain": [
       "<Figure size 432x288 with 1 Axes>"
      ]
     },
     "metadata": {
      "needs_background": "light"
     },
     "output_type": "display_data"
    }
   ],
   "source": [
    "# Number of transaction in both company\n",
    "master_data.groupby('Company')['Customer ID'].count()\n",
    "master_data.groupby('Company').agg('count').plot(kind='bar', y='Transaction ID', ylabel=\"Transaction Number\", title='Number of Transaction in Two Company', legend=False, color=['red','blue'])\n",
    "plt.show()"
   ]
  },
  {
   "cell_type": "code",
   "execution_count": 68,
   "id": "e0b145b2",
   "metadata": {},
   "outputs": [
    {
     "data": {
      "text/plain": [
       "Company\n",
       "Pink Cab      32330\n",
       "Yellow Cab    39896\n",
       "Name: Customer ID, dtype: int64"
      ]
     },
     "execution_count": 68,
     "metadata": {},
     "output_type": "execute_result"
    }
   ],
   "source": [
    "# number of Customer in both Company\n",
    "# Yellow Can > Pink Cab\n",
    "number_customer = master_data.drop_duplicates(subset=['Customer ID', 'Company'])\n",
    "number_customer.groupby('Company')['Customer ID'].count()"
   ]
  },
  {
   "cell_type": "code",
   "execution_count": 78,
   "id": "6fbce256",
   "metadata": {},
   "outputs": [
    {
     "data": {
      "text/plain": [
       "<AxesSubplot:title={'center':'Payment Methods for Companies'}, xlabel='Company,Payment_Mode'>"
      ]
     },
     "execution_count": 78,
     "metadata": {},
     "output_type": "execute_result"
    },
    {
     "data": {
      "image/png": "[encoded data removed]",
      "text/plain": [
       "<Figure size 432x288 with 1 Axes>"
      ]
     },
     "metadata": {
      "needs_background": "light"
     },
     "output_type": "display_data"
    }
   ],
   "source": [
    "# Payment Method in different company\n",
    "master_data.groupby(['Company', 'Payment_Mode'])['Customer ID'].count()\n",
    "master_data.groupby(['Company', 'Payment_Mode'])\\\n",
    "        .agg('count')\\\n",
    "        .plot(kind='bar', \n",
    "              y='Transaction ID', \n",
    "              title='Payment Methods for Companies', \n",
    "              color=['red','blue'], \n",
    "              legend=False)"
   ]
  },
  {
   "cell_type": "code",
   "execution_count": 73,
   "id": "eb853929",
   "metadata": {},
   "outputs": [
    {
     "data": {
      "text/plain": [
       "<AxesSubplot:title={'center':'Profit per Transaction'}, xlabel='Company'>"
      ]
     },
     "execution_count": 73,
     "metadata": {},
     "output_type": "execute_result"
    },
    {
     "data": {
      "image/png": "[encoded data removed]",
      "text/plain": [
       "<Figure size 432x288 with 1 Axes>"
      ]
     },
     "metadata": {
      "needs_background": "light"
     },
     "output_type": "display_data"
    }
   ],
   "source": [
    "# Average net earn for each cab company\n",
    "master_data.groupby('Company')['Net Earn'].mean()\n",
    "master_data.groupby('Company').agg('mean').plot(kind='bar', y='Net Earn', title='Profit per Transaction', color=['red','blue'], legend=False)"
   ]
  }
 ],
 "metadata": {
  "kernelspec": {
   "display_name": "Python 3 (ipykernel)",
   "language": "python",
   "name": "python3"
  },
  "language_info": {
   "codemirror_mode": {
    "name": "ipython",
    "version": 3
   },
   "file_extension": ".py",
   "mimetype": "text/x-python",
   "name": "python",
   "nbconvert_exporter": "python",
   "pygments_lexer": "ipython3",
   "version": "3.9.12"
  }
 },
 "nbformat": 4,
 "nbformat_minor": 5
}
